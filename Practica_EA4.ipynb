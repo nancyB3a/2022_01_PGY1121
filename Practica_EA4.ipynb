{
  "nbformat": 4,
  "nbformat_minor": 0,
  "metadata": {
    "colab": {
      "name": "Practica_EA4.ipynb",
      "provenance": [],
      "collapsed_sections": [],
      "authorship_tag": "ABX9TyMaxENoVFI//oqYHCbV+oTX",
      "include_colab_link": true
    },
    "kernelspec": {
      "name": "python3",
      "display_name": "Python 3"
    },
    "language_info": {
      "name": "python"
    }
  },
  "cells": [
    {
      "cell_type": "markdown",
      "metadata": {
        "id": "view-in-github",
        "colab_type": "text"
      },
      "source": [
        "<a href=\"https://colab.research.google.com/github/nancyB3a/2022_01_PGY1121/blob/main/Practica_EA4.ipynb\" target=\"_parent\"><img src=\"https://colab.research.google.com/assets/colab-badge.svg\" alt=\"Open In Colab\"/></a>"
      ]
    },
    {
      "cell_type": "markdown",
      "source": [
        "1.- Escribir un código que permita guardar las ventas de 5 vendedores que permita mostrar el total de cada vendedor y el total de toda la tienda.\n",
        "\n"
      ],
      "metadata": {
        "id": "1oj90lbCm_YK"
      }
    },
    {
      "cell_type": "code",
      "source": [
        ""
      ],
      "metadata": {
        "id": "Cco5u6wcnhlc"
      },
      "execution_count": null,
      "outputs": []
    },
    {
      "cell_type": "markdown",
      "source": [
        "2.- La empresa de gas “GasLipi” tiene 5 empleados que distribuyen el gas a las viviendas. Cada empleado vende una cantidad x Kg de gas. A partir de los datos ingresados, se debe calcular:\n",
        "-\tEl monto total a pagar por concepto de sueldo en la empresa, sabiendo que por cada 1 Kg vendido se pagan $500.\n",
        "-\tLa cantidad de empleados que vendieron más de 5000 kg.\n",
        "-\tEl total de kg gas vendido por los empleados.\n",
        "\n",
        "   Debe utilizar arreglos."
      ],
      "metadata": {
        "id": "zFMrUvt9niYz"
      }
    },
    {
      "cell_type": "code",
      "source": [
        ""
      ],
      "metadata": {
        "id": "Dk7hwwjen0RP"
      },
      "execution_count": null,
      "outputs": []
    },
    {
      "cell_type": "markdown",
      "source": [
        "3.- Almacene los nombres de 6 jugadores de tenis y sus puntos obtenidos en un campeonato en forma aleatoria (entre 0 y 100) y obtenga el ganador del torneo, sólo puede haber 1 ganador."
      ],
      "metadata": {
        "id": "_hvknb6bn1fh"
      }
    },
    {
      "cell_type": "code",
      "source": [
        ""
      ],
      "metadata": {
        "id": "xwdFMI0moEvr"
      },
      "execution_count": null,
      "outputs": []
    },
    {
      "cell_type": "markdown",
      "source": [
        "4.- Realizar un algoritmo que permita que el usuario ingrese datos para llenar un arreglo unidimensional de largo 20.  Sólo se puede ingresar  números enteros positivos de dos dígitos  lo que deberá ser validado. Luego cree un segundo arreglo, en el que  queden sólo aquellos datos donde el primer dígito es mayor que el segundo. Mostrar el segundo arreglo; si no tiene elementos, mostrar un mensaje adecuado."
      ],
      "metadata": {
        "id": "kBDTbZJnsDrO"
      }
    },
    {
      "cell_type": "code",
      "source": [
        ""
      ],
      "metadata": {
        "id": "gCfBKQrfsGGz"
      },
      "execution_count": null,
      "outputs": []
    },
    {
      "cell_type": "markdown",
      "source": [
        "5.- Crea una lista donde indiques el tamaño por teclado y crea una función que rellene la lista con los múltiplos de un número pedido por teclado. Por ejemplo, si defino una lista de tamaño 5 y elijo el número 3, la lista contendrá 3, 6, 9, 12, 15."
      ],
      "metadata": {
        "id": "Eso4wcpAsOEy"
      }
    },
    {
      "cell_type": "code",
      "source": [
        ""
      ],
      "metadata": {
        "id": "TmlV1j-XsPp8"
      },
      "execution_count": null,
      "outputs": []
    },
    {
      "cell_type": "markdown",
      "source": [
        "6.- Escribir un programa que almacene las X asignaturas de un alumno en una lista, pregunte al usuario la nota (entre 1 y 7) que ha sacado en cada asignatura y después las muestre por pantalla con el mensaje: \n",
        "'asignatura' - 'nota' - 'condición'\n",
        "\n",
        "La condición puede ser aprobado (>= 4) o reprobado (< 4).\n"
      ],
      "metadata": {
        "id": "nUnv5ljmsUE1"
      }
    },
    {
      "cell_type": "code",
      "source": [
        ""
      ],
      "metadata": {
        "id": "fQZ_fUZGsapd"
      },
      "execution_count": null,
      "outputs": []
    },
    {
      "cell_type": "markdown",
      "source": [
        "7.- Escribir una función que reciba dos arreglos del mismo largo y devuelva un arreglo con booleanos donde True significa que los números que se encuentran en la misma posición son iguales, False en caso contrario."
      ],
      "metadata": {
        "id": "zTQD7gTwstI8"
      }
    },
    {
      "cell_type": "code",
      "source": [
        ""
      ],
      "metadata": {
        "id": "ToePIf1jsuyw"
      },
      "execution_count": null,
      "outputs": []
    },
    {
      "cell_type": "markdown",
      "source": [
        "8.- Realiza una función separar(lista) que tome una lista de números enteros y devuelva dos listas ordenadas. La primera con los números pares y la segunda con los números impares."
      ],
      "metadata": {
        "id": "1-kx2OK8svep"
      }
    },
    {
      "cell_type": "code",
      "source": [
        ""
      ],
      "metadata": {
        "id": "1awqtgJSs2-G"
      },
      "execution_count": null,
      "outputs": []
    },
    {
      "cell_type": "markdown",
      "source": [
        "9.- Declarar y poblar un arreglo unidimensional de largo 10 con números enteros positivos, utilizando la función random, luego ingrese un número e indique si éste se encuentra en el arreglo."
      ],
      "metadata": {
        "id": "Ynm-2s2QtPEG"
      }
    },
    {
      "cell_type": "code",
      "source": [
        ""
      ],
      "metadata": {
        "id": "_hQwb5iftWYb"
      },
      "execution_count": null,
      "outputs": []
    },
    {
      "cell_type": "markdown",
      "source": [
        "10.- Ingresar dos números enteros positivos entre 3 y 6, ambos inclusive, luego esos números serán las dimensiones de un arreglo bidimensional. Posteriormente, poblar la matriz con números reales. Finalmente, muestre:\n",
        "\n",
        "*   El arreglo poblado.\n",
        "*   La suma por filas.\n",
        "*   El promedio por columnas."
      ],
      "metadata": {
        "id": "2tfTD7X6zA1y"
      }
    },
    {
      "cell_type": "code",
      "source": [
        ""
      ],
      "metadata": {
        "id": "Z6oS1foIzZMi"
      },
      "execution_count": null,
      "outputs": []
    },
    {
      "cell_type": "markdown",
      "source": [
        "11.- Crear un programa que contenga un menú con las siguientes opciones:\n",
        "\n",
        "*   Área de un circulo\n",
        "*   Perímetro de un cuadrado\n",
        " \n",
        "Ingrese los valores necesarios para calcular y entregar resultados utilizando funciones."
      ],
      "metadata": {
        "id": "W3QSmsS-zpN0"
      }
    },
    {
      "cell_type": "code",
      "source": [
        ""
      ],
      "metadata": {
        "id": "0pMpVWx5z6Ps"
      },
      "execution_count": null,
      "outputs": []
    },
    {
      "cell_type": "markdown",
      "source": [
        "En una cafetería se venden 4 tipos de cafés: \n",
        "\n",
        "*   Espresso ($1500)\n",
        "\n",
        "*   Capuchino ($1800)\n",
        "\n",
        "*   Latte ($1600)\n",
        "\n",
        "*   Moca ($1700)\n",
        "\n",
        "Determine el total a pagar por un cliente que puede llevar varios cafés y aplique el descuento del 10% al total a pagar, si su compra es superior o igual a $3.000.\n",
        "\n",
        "Considere crear un menú de opciones y calcule el monto utilizando función."
      ],
      "metadata": {
        "id": "eQwez7Bl1cw4"
      }
    },
    {
      "cell_type": "code",
      "source": [
        ""
      ],
      "metadata": {
        "id": "qJnnVDtI2Mh0"
      },
      "execution_count": null,
      "outputs": []
    }
  ]
}